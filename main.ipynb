{
 "cells": [
  {
   "attachments": {},
   "cell_type": "markdown",
   "metadata": {},
   "source": [
    "## Reconstruction of Complex Networks"
   ]
  },
  {
   "cell_type": "code",
   "execution_count": 1,
   "metadata": {},
   "outputs": [],
   "source": [
    "import numpy as np\n",
    "import matplotlib.pyplot as plt\n",
    "import networkx as nx\n",
    "import math\n",
    "import random\n",
    "import operator as op\n",
    "from functools import reduce\n",
    "from tqdm import tqdm\n",
    "import copy\n",
    "import json"
   ]
  },
  {
   "attachments": {},
   "cell_type": "markdown",
   "metadata": {},
   "source": [
    "### Partitioning"
   ]
  },
  {
   "cell_type": "code",
   "execution_count": 18,
   "metadata": {},
   "outputs": [],
   "source": [
    "def all_part_maker(N, size_list, color_list):\n",
    "    return([partitioner(size_list, color_list) for i in range(N)])\n",
    "\n",
    "def ncr(n, r):  #n choose r\n",
    "    r = min(r, n-r)\n",
    "    numer = reduce(op.mul, range(n, n-r, -1), 1)\n",
    "    denom = reduce(op.mul, range(1, r+1), 1)\n",
    "    return numer // denom  # or / in Python 2\n",
    "\n",
    "def index_2d(myList, v):\n",
    "    for i, x in enumerate(myList):\n",
    "        if v in x:\n",
    "            return (i, x.index(v))\n",
    "        \n",
    "def l_ij(alpha,beta, A_T,part):       #number of links between group i and j\n",
    "    link_num = 0\n",
    "    for a in part[alpha]:\n",
    "        for b in part[beta]:\n",
    "            if A_T[a, b] == 1:\n",
    "                link_num += 1\n",
    "    return(link_num)\n",
    "                \n",
    "    \n",
    "def r_ij(alpha,beta, part):       #maximum possible number of links between group i and j\n",
    "    return(len(part[alpha]) * len(part[beta]))\n",
    "\n",
    "def R(i, j, A_T, all_part):   #all_part is a list containing all different partitions\n",
    "    big_sum= 0\n",
    "    Z=0\n",
    "    for part in all_part:  \n",
    "\n",
    "        sigma_i = index_2d(part, i)[0]\n",
    "        sigma_j = index_2d(part, j)[0]\n",
    "        l = l_ij(sigma_i , sigma_j , A_T, part)\n",
    "        r = r_ij(sigma_i , sigma_j , part)\n",
    "        paran = ((l + 1)/(r+2))\n",
    "\n",
    "        gooz_list = [[x,y] for x in range(len(part)) for y in range(len(part)) if len(part[x])<len(part[y])]     \n",
    "        pair_list=[]\n",
    "        for x in gooz_list:\n",
    "            if x not in pair_list: pair_list.append(x)\n",
    "        H_P = 0\n",
    "        for pair in pair_list:\n",
    "            alpha, beta = pair\n",
    "            l = l_ij(alpha, beta, A_T, part)\n",
    "            r = r_ij(alpha, beta, part)\n",
    "            h_p = math.log(r+1) + math.log(ncr(r, l))\n",
    "            H_P += h_p\n",
    "        Z += np.exp(-H_P)\n",
    "        big_sum += paran* np.exp(-H_P)\n",
    "        R_ij = big_sum/Z \n",
    "    # print('reliability of i={} and j={}:'.format(i, j), round(R_ij,4))\n",
    "    return(round(R_ij,5))\n",
    "\n",
    "def H(P):\n",
    "    pair_list=[]\n",
    "    H_P=0\n",
    "    for i in range(len(P)):\n",
    "        for j in range(len(P)):\n",
    "            if i<j:\n",
    "                pair_list.append([i,j])\n",
    "    for pair in pair_list:\n",
    "            alpha, beta = pair\n",
    "            l = l_ij(alpha, beta, A_T, P)\n",
    "            r = r_ij(alpha, beta, P)\n",
    "            h_p = math.log(r+1) + math.log(ncr(r, l))\n",
    "            H_P += h_p\n",
    "    return(H_P)\n",
    "\n",
    "\n",
    "# def Metro( T,ens):\n",
    "#     e=[]\n",
    "#     for i in range(ens):\n",
    "#         partitions =  [[i] for i in range(40)].copy()\n",
    "#         for kk in tqdm(range(T)):\n",
    "\n",
    "#             partitions = [ele for ele in partitions if ele != []]\n",
    "#             part_before=copy.deepcopy(partitions)\n",
    "\n",
    "#             H0=H(partitions)\n",
    "#             rpp=random.randint(0,len(partitions)-1)\n",
    "#             m,n=index_2d(partitions,rpp)\n",
    "#             a=partitions[m][n]\n",
    "#             del partitions[m][n]\n",
    "#             rp=random.randint(0,len(partitions)-1)\n",
    "#             partitions[rp].append(a)\n",
    "#             Hf=H(partitions)\n",
    "#             deltaH=Hf-H0\n",
    "#             if deltaH>0:\n",
    "#                 if random.random() > np.exp(-deltaH):\n",
    "#                     partitions=part_before.copy()\n",
    "#             partitions = [ele for ele in partitions if ele != []]\n",
    "            \n",
    "#         ppp=copy.deepcopy(partitions)\n",
    "#         e.append(ppp)\n",
    "#     return(e)\n",
    "\n",
    "\n",
    "\n",
    "\n",
    "def Metro(T,ens):\n",
    "    e=[]\n",
    "    for i in tqdm(range(ens)):\n",
    "        partitions =  [[i] for i in range(40)].copy()\n",
    "        c=0\n",
    "        for kk in range(T):\n",
    "            partitions = [ele for ele in partitions if ele != []]\n",
    "            part_before=copy.deepcopy(partitions)\n",
    "\n",
    "            H0=H(partitions)\n",
    "            rpp=random.randint(0,len(partitions)-1)\n",
    "            m,n=index_2d(partitions,rpp)\n",
    "            a=partitions[m][n]\n",
    "            del partitions[m][n]\n",
    "            rp=random.randint(0,len(partitions)-1)\n",
    "            partitions[rp].append(a)\n",
    "            Hf=H(partitions)\n",
    "            deltaH=Hf-H0\n",
    "            if deltaH>0:\n",
    "                if random.random() > np.exp(-deltaH):\n",
    "                    partitions=part_before.copy()\n",
    "            if H(partitions)==H(part_before):\n",
    "                c=c+1\n",
    "            if H(partitions)!=H(part_before):\n",
    "                c=0\n",
    "            #print(c)\n",
    "            #print(H(partitions))\n",
    "            if c>500:\n",
    "                break\n",
    "            partitions = [ele for ele in partitions if ele != []]\n",
    "            \n",
    "#         partitions = [ele for ele in partitions if ele != []]\n",
    "        ppp=copy.deepcopy(partitions)\n",
    "        e.append(ppp)\n",
    "        print(H(partitions))\n",
    "        print(kk)\n",
    "    return(e)"
   ]
  },
  {
   "cell_type": "code",
   "execution_count": 3,
   "metadata": {},
   "outputs": [
    {
     "data": {
      "text/plain": [
       "array([[1., 0., 1., ..., 0., 0., 0.],\n",
       "       [1., 1., 1., ..., 0., 0., 0.],\n",
       "       [1., 1., 1., ..., 0., 0., 0.],\n",
       "       ...,\n",
       "       [1., 0., 1., ..., 0., 1., 0.],\n",
       "       [0., 0., 0., ..., 1., 0., 0.],\n",
       "       [0., 0., 1., ..., 0., 0., 1.]])"
      ]
     },
     "execution_count": 3,
     "metadata": {},
     "output_type": "execute_result"
    }
   ],
   "source": [
    "A_T = np.load('A.npy')\n",
    "A_O = np.load('Af.npy')\n",
    "A_T"
   ]
  },
  {
   "cell_type": "code",
   "execution_count": 24,
   "metadata": {
    "scrolled": true
   },
   "outputs": [
    {
     "name": "stderr",
     "output_type": "stream",
     "text": [
      "  2%|█▋                                                                                 | 1/50 [00:04<03:41,  4.52s/it]"
     ]
    },
    {
     "name": "stdout",
     "output_type": "stream",
     "text": [
      "287.70279023687135\n",
      "999\n"
     ]
    },
    {
     "name": "stderr",
     "output_type": "stream",
     "text": [
      "\r\n",
      "  4%|███▎                                                                               | 2/50 [00:08<03:30,  4.38s/it]"
     ]
    },
    {
     "name": "stdout",
     "output_type": "stream",
     "text": [
      "241.73615741890686\n",
      "999\n"
     ]
    },
    {
     "name": "stderr",
     "output_type": "stream",
     "text": [
      "\r\n",
      "  6%|████▉                                                                              | 3/50 [00:13<03:22,  4.32s/it]"
     ]
    },
    {
     "name": "stdout",
     "output_type": "stream",
     "text": [
      "227.33960837513362\n",
      "999\n"
     ]
    },
    {
     "name": "stderr",
     "output_type": "stream",
     "text": [
      "\r\n",
      "  8%|██████▋                                                                            | 4/50 [00:18<03:35,  4.69s/it]"
     ]
    },
    {
     "name": "stdout",
     "output_type": "stream",
     "text": [
      "252.71142705596063\n",
      "999\n"
     ]
    },
    {
     "name": "stderr",
     "output_type": "stream",
     "text": [
      "\r\n",
      " 10%|████████▎                                                                          | 5/50 [00:23<03:31,  4.69s/it]"
     ]
    },
    {
     "name": "stdout",
     "output_type": "stream",
     "text": [
      "259.746519871252\n",
      "999\n"
     ]
    },
    {
     "name": "stderr",
     "output_type": "stream",
     "text": [
      "\r\n",
      " 12%|█████████▉                                                                         | 6/50 [00:26<03:15,  4.44s/it]"
     ]
    },
    {
     "name": "stdout",
     "output_type": "stream",
     "text": [
      "259.95455826414116\n",
      "999\n"
     ]
    },
    {
     "name": "stderr",
     "output_type": "stream",
     "text": [
      "\r\n",
      " 14%|███████████▌                                                                       | 7/50 [00:31<03:14,  4.51s/it]"
     ]
    },
    {
     "name": "stdout",
     "output_type": "stream",
     "text": [
      "246.823381294296\n",
      "999\n"
     ]
    },
    {
     "name": "stderr",
     "output_type": "stream",
     "text": [
      "\r\n",
      " 16%|█████████████▎                                                                     | 8/50 [00:35<03:06,  4.45s/it]"
     ]
    },
    {
     "name": "stdout",
     "output_type": "stream",
     "text": [
      "268.0070963880257\n",
      "999\n"
     ]
    },
    {
     "name": "stderr",
     "output_type": "stream",
     "text": [
      "\r\n",
      " 18%|██████████████▉                                                                    | 9/50 [00:41<03:10,  4.65s/it]"
     ]
    },
    {
     "name": "stdout",
     "output_type": "stream",
     "text": [
      "218.9466833481183\n",
      "999\n"
     ]
    },
    {
     "name": "stderr",
     "output_type": "stream",
     "text": [
      "\r\n",
      " 20%|████████████████▍                                                                 | 10/50 [00:45<03:05,  4.63s/it]"
     ]
    },
    {
     "name": "stdout",
     "output_type": "stream",
     "text": [
      "221.8570201616916\n",
      "999\n"
     ]
    },
    {
     "name": "stderr",
     "output_type": "stream",
     "text": [
      "\r\n",
      " 22%|██████████████████                                                                | 11/50 [00:49<02:56,  4.52s/it]"
     ]
    },
    {
     "name": "stdout",
     "output_type": "stream",
     "text": [
      "288.15434115852173\n",
      "999\n"
     ]
    },
    {
     "name": "stderr",
     "output_type": "stream",
     "text": [
      "\r\n",
      " 24%|███████████████████▋                                                              | 12/50 [00:55<03:01,  4.77s/it]"
     ]
    },
    {
     "name": "stdout",
     "output_type": "stream",
     "text": [
      "273.2426834309126\n",
      "999\n"
     ]
    },
    {
     "name": "stderr",
     "output_type": "stream",
     "text": [
      "\r\n",
      " 26%|█████████████████████▎                                                            | 13/50 [00:59<02:55,  4.75s/it]"
     ]
    },
    {
     "name": "stdout",
     "output_type": "stream",
     "text": [
      "263.6415757750617\n",
      "999\n"
     ]
    },
    {
     "name": "stderr",
     "output_type": "stream",
     "text": [
      "\r\n",
      " 28%|██████████████████████▉                                                           | 14/50 [01:04<02:51,  4.78s/it]"
     ]
    },
    {
     "name": "stdout",
     "output_type": "stream",
     "text": [
      "221.53468702379527\n",
      "999\n"
     ]
    },
    {
     "name": "stderr",
     "output_type": "stream",
     "text": [
      "\r\n",
      " 30%|████████████████████████▌                                                         | 15/50 [01:10<02:53,  4.96s/it]"
     ]
    },
    {
     "name": "stdout",
     "output_type": "stream",
     "text": [
      "242.664636099563\n",
      "999\n"
     ]
    },
    {
     "name": "stderr",
     "output_type": "stream",
     "text": [
      "\r\n",
      " 32%|██████████████████████████▏                                                       | 16/50 [01:16<03:00,  5.30s/it]"
     ]
    },
    {
     "name": "stdout",
     "output_type": "stream",
     "text": [
      "276.2438661966438\n",
      "999\n"
     ]
    },
    {
     "name": "stderr",
     "output_type": "stream",
     "text": [
      "\r\n",
      " 34%|███████████████████████████▉                                                      | 17/50 [01:21<02:57,  5.38s/it]"
     ]
    },
    {
     "name": "stdout",
     "output_type": "stream",
     "text": [
      "248.27903114800887\n",
      "999\n"
     ]
    },
    {
     "name": "stderr",
     "output_type": "stream",
     "text": [
      "\r\n",
      " 36%|█████████████████████████████▌                                                    | 18/50 [01:27<02:58,  5.56s/it]"
     ]
    },
    {
     "name": "stdout",
     "output_type": "stream",
     "text": [
      "279.21921159439563\n",
      "999\n"
     ]
    },
    {
     "name": "stderr",
     "output_type": "stream",
     "text": [
      "\r\n",
      " 38%|███████████████████████████████▏                                                  | 19/50 [01:33<02:55,  5.65s/it]"
     ]
    },
    {
     "name": "stdout",
     "output_type": "stream",
     "text": [
      "256.70746968781\n",
      "999\n"
     ]
    },
    {
     "name": "stderr",
     "output_type": "stream",
     "text": [
      "\r\n",
      " 40%|████████████████████████████████▊                                                 | 20/50 [01:39<02:47,  5.58s/it]"
     ]
    },
    {
     "name": "stdout",
     "output_type": "stream",
     "text": [
      "261.51055809317035\n",
      "999\n"
     ]
    },
    {
     "name": "stderr",
     "output_type": "stream",
     "text": [
      "\r\n",
      " 42%|██████████████████████████████████▍                                               | 21/50 [01:44<02:41,  5.58s/it]"
     ]
    },
    {
     "name": "stdout",
     "output_type": "stream",
     "text": [
      "242.4832871484264\n",
      "999\n"
     ]
    },
    {
     "name": "stderr",
     "output_type": "stream",
     "text": [
      "\r\n",
      " 44%|████████████████████████████████████                                              | 22/50 [01:50<02:36,  5.58s/it]"
     ]
    },
    {
     "name": "stdout",
     "output_type": "stream",
     "text": [
      "244.28351644189783\n",
      "999\n"
     ]
    },
    {
     "name": "stderr",
     "output_type": "stream",
     "text": [
      "\r\n",
      " 46%|█████████████████████████████████████▋                                            | 23/50 [01:56<02:33,  5.68s/it]"
     ]
    },
    {
     "name": "stdout",
     "output_type": "stream",
     "text": [
      "283.3908682541722\n",
      "999\n"
     ]
    },
    {
     "name": "stderr",
     "output_type": "stream",
     "text": [
      "\r\n",
      " 48%|███████████████████████████████████████▎                                          | 24/50 [02:01<02:27,  5.66s/it]"
     ]
    },
    {
     "name": "stdout",
     "output_type": "stream",
     "text": [
      "259.0436387985821\n",
      "999\n"
     ]
    },
    {
     "name": "stderr",
     "output_type": "stream",
     "text": [
      "\r\n",
      " 50%|█████████████████████████████████████████                                         | 25/50 [02:07<02:20,  5.63s/it]"
     ]
    },
    {
     "name": "stdout",
     "output_type": "stream",
     "text": [
      "248.29771865489988\n",
      "999\n"
     ]
    },
    {
     "name": "stderr",
     "output_type": "stream",
     "text": [
      "\r\n",
      " 52%|██████████████████████████████████████████▋                                       | 26/50 [02:13<02:18,  5.75s/it]"
     ]
    },
    {
     "name": "stdout",
     "output_type": "stream",
     "text": [
      "253.95398971059316\n",
      "999\n"
     ]
    },
    {
     "name": "stderr",
     "output_type": "stream",
     "text": [
      "\r\n",
      " 54%|████████████████████████████████████████████▎                                     | 27/50 [02:18<02:09,  5.63s/it]"
     ]
    },
    {
     "name": "stdout",
     "output_type": "stream",
     "text": [
      "252.283542936526\n",
      "999\n"
     ]
    },
    {
     "name": "stderr",
     "output_type": "stream",
     "text": [
      "\r\n",
      " 56%|█████████████████████████████████████████████▉                                    | 28/50 [02:23<02:01,  5.51s/it]"
     ]
    },
    {
     "name": "stdout",
     "output_type": "stream",
     "text": [
      "242.5570897212407\n",
      "999\n"
     ]
    },
    {
     "name": "stderr",
     "output_type": "stream",
     "text": [
      "\r\n",
      " 58%|███████████████████████████████████████████████▌                                  | 29/50 [02:29<01:53,  5.42s/it]"
     ]
    },
    {
     "name": "stdout",
     "output_type": "stream",
     "text": [
      "263.5883065209216\n",
      "999\n"
     ]
    },
    {
     "name": "stderr",
     "output_type": "stream",
     "text": [
      "\r\n",
      " 60%|█████████████████████████████████████████████████▏                                | 30/50 [02:34<01:46,  5.34s/it]"
     ]
    },
    {
     "name": "stdout",
     "output_type": "stream",
     "text": [
      "249.78482314991402\n",
      "999\n"
     ]
    },
    {
     "name": "stderr",
     "output_type": "stream",
     "text": [
      "\r\n",
      " 62%|██████████████████████████████████████████████████▊                               | 31/50 [02:39<01:42,  5.37s/it]"
     ]
    },
    {
     "name": "stdout",
     "output_type": "stream",
     "text": [
      "249.9810776410299\n",
      "999\n"
     ]
    },
    {
     "name": "stderr",
     "output_type": "stream",
     "text": [
      "\r\n",
      " 64%|████████████████████████████████████████████████████▍                             | 32/50 [02:44<01:35,  5.33s/it]"
     ]
    },
    {
     "name": "stdout",
     "output_type": "stream",
     "text": [
      "279.8404392555874\n",
      "999\n"
     ]
    },
    {
     "name": "stderr",
     "output_type": "stream",
     "text": [
      "\r\n",
      " 66%|██████████████████████████████████████████████████████                            | 33/50 [02:50<01:30,  5.32s/it]"
     ]
    },
    {
     "name": "stdout",
     "output_type": "stream",
     "text": [
      "267.02555709632634\n",
      "999\n"
     ]
    },
    {
     "name": "stderr",
     "output_type": "stream",
     "text": [
      "\r\n",
      " 68%|███████████████████████████████████████████████████████▊                          | 34/50 [02:55<01:25,  5.34s/it]"
     ]
    },
    {
     "name": "stdout",
     "output_type": "stream",
     "text": [
      "300.2058099135004\n",
      "999\n"
     ]
    },
    {
     "name": "stderr",
     "output_type": "stream",
     "text": [
      "\r\n",
      " 70%|█████████████████████████████████████████████████████████▍                        | 35/50 [03:00<01:15,  5.05s/it]"
     ]
    },
    {
     "name": "stdout",
     "output_type": "stream",
     "text": [
      "236.5301396539117\n",
      "999\n"
     ]
    },
    {
     "name": "stderr",
     "output_type": "stream",
     "text": [
      "\r\n",
      " 72%|███████████████████████████████████████████████████████████                       | 36/50 [03:04<01:09,  4.95s/it]"
     ]
    },
    {
     "name": "stdout",
     "output_type": "stream",
     "text": [
      "268.396119485677\n",
      "999\n"
     ]
    },
    {
     "name": "stderr",
     "output_type": "stream",
     "text": [
      "\r\n",
      " 74%|████████████████████████████████████████████████████████████▋                     | 37/50 [03:09<01:03,  4.86s/it]"
     ]
    },
    {
     "name": "stdout",
     "output_type": "stream",
     "text": [
      "244.36082098275847\n",
      "999\n"
     ]
    },
    {
     "name": "stderr",
     "output_type": "stream",
     "text": [
      "\r\n",
      " 76%|██████████████████████████████████████████████████████████████▎                   | 38/50 [03:14<01:00,  5.03s/it]"
     ]
    },
    {
     "name": "stdout",
     "output_type": "stream",
     "text": [
      "275.594279470163\n",
      "999\n"
     ]
    },
    {
     "name": "stderr",
     "output_type": "stream",
     "text": [
      "\r\n",
      " 78%|███████████████████████████████████████████████████████████████▉                  | 39/50 [03:19<00:55,  5.02s/it]"
     ]
    },
    {
     "name": "stdout",
     "output_type": "stream",
     "text": [
      "281.5205230454829\n",
      "999\n"
     ]
    },
    {
     "name": "stderr",
     "output_type": "stream",
     "text": [
      "\r\n",
      " 80%|█████████████████████████████████████████████████████████████████▌                | 40/50 [03:24<00:50,  5.06s/it]"
     ]
    },
    {
     "name": "stdout",
     "output_type": "stream",
     "text": [
      "253.98396246228492\n",
      "999\n"
     ]
    },
    {
     "name": "stderr",
     "output_type": "stream",
     "text": [
      "\r\n",
      " 82%|███████████████████████████████████████████████████████████████████▏              | 41/50 [03:30<00:46,  5.13s/it]"
     ]
    },
    {
     "name": "stdout",
     "output_type": "stream",
     "text": [
      "237.01382709864703\n",
      "999\n"
     ]
    },
    {
     "name": "stderr",
     "output_type": "stream",
     "text": [
      "\r\n",
      " 84%|████████████████████████████████████████████████████████████████████▉             | 42/50 [03:36<00:42,  5.32s/it]"
     ]
    },
    {
     "name": "stdout",
     "output_type": "stream",
     "text": [
      "252.17838340870168\n",
      "999\n"
     ]
    },
    {
     "name": "stderr",
     "output_type": "stream",
     "text": [
      "\r\n",
      " 86%|██████████████████████████████████████████████████████████████████████▌           | 43/50 [03:41<00:37,  5.30s/it]"
     ]
    },
    {
     "name": "stdout",
     "output_type": "stream",
     "text": [
      "255.6554734855879\n",
      "999\n"
     ]
    },
    {
     "name": "stderr",
     "output_type": "stream",
     "text": [
      "\r\n",
      " 88%|████████████████████████████████████████████████████████████████████████▏         | 44/50 [03:46<00:31,  5.29s/it]"
     ]
    },
    {
     "name": "stdout",
     "output_type": "stream",
     "text": [
      "258.7414116005256\n",
      "999\n"
     ]
    },
    {
     "name": "stderr",
     "output_type": "stream",
     "text": [
      "\r\n",
      " 90%|█████████████████████████████████████████████████████████████████████████▊        | 45/50 [03:51<00:26,  5.25s/it]"
     ]
    },
    {
     "name": "stdout",
     "output_type": "stream",
     "text": [
      "263.6638663496696\n",
      "999\n"
     ]
    },
    {
     "name": "stderr",
     "output_type": "stream",
     "text": [
      "\r\n",
      " 92%|███████████████████████████████████████████████████████████████████████████▍      | 46/50 [03:57<00:21,  5.31s/it]"
     ]
    },
    {
     "name": "stdout",
     "output_type": "stream",
     "text": [
      "283.4876763423911\n",
      "999\n"
     ]
    },
    {
     "name": "stderr",
     "output_type": "stream",
     "text": [
      "\r\n",
      " 94%|█████████████████████████████████████████████████████████████████████████████     | 47/50 [04:03<00:16,  5.48s/it]"
     ]
    },
    {
     "name": "stdout",
     "output_type": "stream",
     "text": [
      "280.53535557495746\n",
      "999\n"
     ]
    },
    {
     "name": "stderr",
     "output_type": "stream",
     "text": [
      "\r\n",
      " 96%|██████████████████████████████████████████████████████████████████████████████▋   | 48/50 [04:08<00:10,  5.39s/it]"
     ]
    },
    {
     "name": "stdout",
     "output_type": "stream",
     "text": [
      "281.4360861278366\n",
      "999\n"
     ]
    },
    {
     "name": "stderr",
     "output_type": "stream",
     "text": [
      "\r\n",
      " 98%|████████████████████████████████████████████████████████████████████████████████▎ | 49/50 [04:13<00:05,  5.35s/it]"
     ]
    },
    {
     "name": "stdout",
     "output_type": "stream",
     "text": [
      "272.1295027042702\n",
      "999\n"
     ]
    },
    {
     "name": "stderr",
     "output_type": "stream",
     "text": [
      "100%|██████████████████████████████████████████████████████████████████████████████████| 50/50 [04:18<00:00,  5.18s/it]"
     ]
    },
    {
     "name": "stdout",
     "output_type": "stream",
     "text": [
      "277.1707035241792\n",
      "999\n"
     ]
    },
    {
     "name": "stderr",
     "output_type": "stream",
     "text": [
      "\n"
     ]
    }
   ],
   "source": [
    "es = Metro(1000, 50)"
   ]
  },
  {
   "cell_type": "code",
   "execution_count": 12,
   "metadata": {},
   "outputs": [],
   "source": [
    "#save\n",
    "with open(\"es_20\", \"w\") as fp:\n",
    "    json.dump(es, fp)"
   ]
  },
  {
   "cell_type": "code",
   "execution_count": null,
   "metadata": {},
   "outputs": [],
   "source": [
    "#load\n",
    "with open(\"es\", \"r\") as fp:\n",
    "    b = json.load(fp)"
   ]
  },
  {
   "attachments": {},
   "cell_type": "markdown",
   "metadata": {},
   "source": [
    "### Missing Interactions (Removing Links)"
   ]
  },
  {
   "cell_type": "code",
   "execution_count": 25,
   "metadata": {},
   "outputs": [],
   "source": [
    "def link_remover(A_T, ratio):\n",
    "    one_index = np.where(A_T==1)\n",
    "    one_list = [[one_index[0][i], one_index[1][i]] for i in range(len(one_index[0]))]\n",
    "    r = random.sample(one_list, int(ratio * np.sum(A_T)/2))\n",
    "    return(r)\n",
    "\n",
    "#sorting \n",
    "def Sort(sub_li):\n",
    "    sub_li.sort(key = lambda x: x[1])\n",
    "    return sub_li.reverse()\n",
    "\n",
    "#extract the first element\n",
    "def Extract(lst):\n",
    "    return list(list(zip(*lst))[0]) \n",
    "\n",
    "def acc(k):\n",
    "    zeros=k.count(0)\n",
    "    ones=k.count(1)\n",
    "    ef=0\n",
    "    for i in range(len(k)):\n",
    "        if k[i]==1:\n",
    "            ef+=k[i:].count(0)/zeros\n",
    "    return ef/ones"
   ]
  },
  {
   "cell_type": "code",
   "execution_count": 26,
   "metadata": {},
   "outputs": [
    {
     "name": "stderr",
     "output_type": "stream",
     "text": [
      "100%|██████████████████████████████████████████████████████████████████████████████| 1400/1400 [00:52<00:00, 26.68it/s]\n"
     ]
    }
   ],
   "source": [
    "zero_real = []\n",
    "zero_index = np.where(A_T==0)\n",
    "\n",
    "for i in tqdm(range(len(zero_index[0]))):\n",
    "    zero_real.append(R(zero_index[0][i], zero_index[1][i], A_T, es))"
   ]
  },
  {
   "cell_type": "code",
   "execution_count": null,
   "metadata": {},
   "outputs": [],
   "source": [
    "rat=np.linspace(0.1,1,10)\n",
    "    accs=[]\n",
    "    for r in rat:\n",
    "        A_T = np.load('A.npy')\n",
    "        selected_links = link_remover(A_T, r) \n",
    "        for link in selected_links: A_T[link[0], link[1]] = 0 \n",
    "        zero_fake=[]\n",
    "        for i in selected_links:\n",
    "            zero_fake.append(R(i[0], i[1], A_T, es))\n",
    "        print('the mean value', round(np.mean(zero_fake),2))\n",
    "        all_real = []\n",
    "        for i in zero_fake: all_real.append([1, i])\n",
    "        for i in zero_real: all_real.append([0, i])\n",
    "        Sort(all_real)\n",
    "        ext=Extract(all_real)\n",
    "        accs.append(acc(ext))"
   ]
  },
  {
   "cell_type": "code",
   "execution_count": 84,
   "metadata": {},
   "outputs": [
    {
     "data": {
      "text/plain": [
       "Text(0.5, 1.0, 'Missing intractions')"
      ]
     },
     "execution_count": 84,
     "metadata": {},
     "output_type": "execute_result"
    },
    {
     "data": {
      "image/png": "[encoded data removed]",
      "text/plain": [
       "<Figure size 600x300 with 1 Axes>"
      ]
     },
     "metadata": {},
     "output_type": "display_data"
    }
   ],
   "source": [
    "plt.figure(figsize=(6,3))\n",
    "plt.plot(rat,accs,'-o',color='black')\n",
    "plt.axhline(y = 0.5, color = 'k', linestyle = '--')\n",
    "plt.ylabel('Accuracy')\n",
    "plt.xlabel('Fraction of links removed')\n",
    "plt.title('Missing intractions')\n",
    "\n"
   ]
  },
  {
   "cell_type": "code",
   "execution_count": 61,
   "metadata": {
    "scrolled": true
   },
   "outputs": [
    {
     "name": "stderr",
     "output_type": "stream",
     "text": [
      "\r\n",
      "  0%|                                                                                            | 0/4 [00:00<?, ?it/s]"
     ]
    },
    {
     "name": "stdout",
     "output_type": "stream",
     "text": [
      "the mean value 0.3\n",
      "the mean value 0.26\n",
      "the mean value 0.28\n",
      "the mean value 0.27\n",
      "the mean value 0.26\n",
      "the mean value 0.25\n",
      "the mean value 0.23\n",
      "the mean value 0.23\n",
      "the mean value 0.22\n"
     ]
    },
    {
     "name": "stderr",
     "output_type": "stream",
     "text": [
      "\r\n",
      " 25%|█████████████████████                                                               | 1/4 [00:41<02:04, 41.34s/it]"
     ]
    },
    {
     "name": "stdout",
     "output_type": "stream",
     "text": [
      "the mean value 0.19\n",
      "the mean value 0.3\n",
      "the mean value 0.29\n",
      "the mean value 0.28\n",
      "the mean value 0.26\n",
      "the mean value 0.27\n",
      "the mean value 0.25\n",
      "the mean value 0.24\n",
      "the mean value 0.22\n",
      "the mean value 0.21\n"
     ]
    },
    {
     "name": "stderr",
     "output_type": "stream",
     "text": [
      "\r\n",
      " 50%|██████████████████████████████████████████                                          | 2/4 [01:22<01:22, 41.40s/it]"
     ]
    },
    {
     "name": "stdout",
     "output_type": "stream",
     "text": [
      "the mean value 0.2\n",
      "the mean value 0.31\n",
      "the mean value 0.29\n",
      "the mean value 0.28\n",
      "the mean value 0.26\n",
      "the mean value 0.26\n",
      "the mean value 0.24\n",
      "the mean value 0.25\n",
      "the mean value 0.24\n",
      "the mean value 0.22\n"
     ]
    },
    {
     "name": "stderr",
     "output_type": "stream",
     "text": [
      "\r\n",
      " 75%|███████████████████████████████████████████████████████████████                     | 3/4 [01:58<00:38, 38.62s/it]"
     ]
    },
    {
     "name": "stdout",
     "output_type": "stream",
     "text": [
      "the mean value 0.21\n",
      "the mean value 0.3\n",
      "the mean value 0.33\n",
      "the mean value 0.26\n",
      "the mean value 0.28\n",
      "the mean value 0.27\n",
      "the mean value 0.24\n",
      "the mean value 0.25\n",
      "the mean value 0.23\n",
      "the mean value 0.21\n"
     ]
    },
    {
     "name": "stderr",
     "output_type": "stream",
     "text": [
      "100%|████████████████████████████████████████████████████████████████████████████████████| 4/4 [02:41<00:00, 40.46s/it]"
     ]
    },
    {
     "name": "stdout",
     "output_type": "stream",
     "text": [
      "the mean value 0.2\n"
     ]
    },
    {
     "name": "stderr",
     "output_type": "stream",
     "text": [
      "\n"
     ]
    }
   ],
   "source": [
    "#Avraging\n",
    "n=4\n",
    "a=np.zeros((n,10))\n",
    "for p in tqdm(range(n)):\n",
    "    rat=np.linspace(0.1,1,10)\n",
    "    accs=[]\n",
    "    for r in rat:\n",
    "        A_T = np.load('A.npy')\n",
    "        selected_links = link_remover(A_T, r) \n",
    "        for link in selected_links: A_T[link[0], link[1]] = 0 \n",
    "        zero_fake=[]\n",
    "        for i in selected_links:\n",
    "            zero_fake.append(R(i[0], i[1], A_T, es))\n",
    "        print('the mean value', round(np.mean(zero_fake),2))\n",
    "        all_real = []\n",
    "        for i in zero_fake: all_real.append([1, i])\n",
    "        for i in zero_real: all_real.append([0, i])\n",
    "        Sort(all_real)\n",
    "        ext=Extract(all_real)\n",
    "        accs.append(acc(ext))\n",
    "    a[p]=accs"
   ]
  },
  {
   "cell_type": "code",
   "execution_count": 76,
   "metadata": {},
   "outputs": [],
   "source": [
    "k=0\n",
    "for i in a: k=k+i\n",
    "means=k/len(a)"
   ]
  },
  {
   "cell_type": "code",
   "execution_count": 78,
   "metadata": {},
   "outputs": [],
   "source": [
    "k=0\n",
    "for i in a: k=k+i\n",
    "means=k/len(a)\n",
    "stds=np.zeros(10)\n",
    "for i in range(len(a)):\n",
    "    stds[i]=np.std(a[:,i])"
   ]
  },
  {
   "cell_type": "code",
   "execution_count": 80,
   "metadata": {},
   "outputs": [
    {
     "data": {
      "text/plain": [
       "array([0.00960513, 0.06466751, 0.04646278, 0.01435993, 0.        ,\n",
       "       0.        , 0.        , 0.        , 0.        , 0.        ])"
      ]
     },
     "execution_count": 80,
     "metadata": {},
     "output_type": "execute_result"
    }
   ],
   "source": [
    "stds"
   ]
  },
  {
   "cell_type": "code",
   "execution_count": 88,
   "metadata": {},
   "outputs": [
    {
     "data": {
      "image/png": "[encoded data removed]",
      "text/plain": [
       "<Figure size 640x480 with 1 Axes>"
      ]
     },
     "metadata": {},
     "output_type": "display_data"
    }
   ],
   "source": [
    "import matplotlib.pyplot as plt\n",
    "import numpy as np\n",
    "\n",
    "mean_1 = means\n",
    "std_1 = stds\n",
    "\n",
    "x = np.arange(len(mean_1))\n",
    "plt.plot(x, mean_1, '-o',color='k', label='mean_1')\n",
    "plt.fill_between(x, mean_1 - std_1, mean_1 + std_1, color='k', alpha=0.2)\n",
    "plt.axhline(y = 0.5, color = 'k', linestyle = '--')\n",
    "\n",
    "plt.legend()\n",
    "plt.show()"
   ]
  },
  {
   "attachments": {},
   "cell_type": "markdown",
   "metadata": {},
   "source": [
    "### Spurious Intercations (Adding Links)"
   ]
  },
  {
   "cell_type": "code",
   "execution_count": 89,
   "metadata": {},
   "outputs": [],
   "source": [
    "def link_adder(A_T, ratio):\n",
    "    zero_index = np.where(A_T==0)\n",
    "    zero_list = [[zero_index[0][i], zero_index[1][i]] for i in range(len(zero_index[0]))]\n",
    "    r = random.sample(zero_list, int(ratio * np.sum(A_T)/2))\n",
    "    return(r)\n",
    "\n",
    "#sorting \n",
    "def Sort(sub_li):\n",
    "    sub_li.sort(key = lambda x: x[1])\n",
    "    return sub_li.reverse()\n",
    "\n",
    "#extract the first element\n",
    "def Extract(lst):\n",
    "    return list(list(zip(*lst))[0]) \n",
    "\n",
    "def acc(k):\n",
    "    zeros=k.count(0)\n",
    "    ones=k.count(1)\n",
    "    ef=0\n",
    "    for i in range(len(k)):\n",
    "        if k[i]==1:\n",
    "            ef+=k[i:].count(0)/zeros\n",
    "    return ef/ones"
   ]
  },
  {
   "cell_type": "code",
   "execution_count": 90,
   "metadata": {},
   "outputs": [
    {
     "name": "stderr",
     "output_type": "stream",
     "text": [
      "100%|████████████████████████████████████████████████████████████████████████████████| 200/200 [00:06<00:00, 30.10it/s]\n"
     ]
    }
   ],
   "source": [
    "one_real = []\n",
    "one_index = np.where(A_T==1)\n",
    "\n",
    "for i in tqdm(range(len(one_index[0]))):\n",
    "    one_real.append(R(one_index[0][i], one_index[1][i], A_T, es))"
   ]
  },
  {
   "cell_type": "code",
   "execution_count": 97,
   "metadata": {},
   "outputs": [
    {
     "name": "stdout",
     "output_type": "stream",
     "text": [
      "the mean value 0.37\n",
      "the mean value 0.33\n",
      "the mean value 0.34\n",
      "the mean value 0.38\n",
      "the mean value 0.38\n",
      "the mean value 0.38\n",
      "the mean value 0.4\n",
      "the mean value 0.41\n",
      "the mean value 0.41\n",
      "the mean value 0.41\n"
     ]
    }
   ],
   "source": [
    "rat=np.linspace(0.1,1,10)\n",
    "accs=[]\n",
    "for r in rat:\n",
    "    A_T = np.load('A.npy')\n",
    "    selected_links = link_adder(A_T, r) \n",
    "    for link in selected_links: A_T[link[0], link[1]] = 1 \n",
    "    one_fake=[]\n",
    "    for i in selected_links:\n",
    "        one_fake.append(R(i[0], i[1], A_T, es))\n",
    "    print('the mean value', round(np.mean(one_fake),2))\n",
    "    all_real = []\n",
    "    for i in one_fake: all_real.append([0, i])\n",
    "    for i in one_real: all_real.append([1, i])\n",
    "    Sort(all_real)\n",
    "    ext=Extract(all_real)\n",
    "    accs.append(acc(ext))"
   ]
  },
  {
   "cell_type": "code",
   "execution_count": 105,
   "metadata": {},
   "outputs": [
    {
     "data": {
      "text/plain": [
       "Text(0.5, 1.0, 'ُSpurious intractions')"
      ]
     },
     "execution_count": 105,
     "metadata": {},
     "output_type": "execute_result"
    },
    {
     "data": {
      "image/png": "[encoded data removed]",
      "text/plain": [
       "<Figure size 600x300 with 1 Axes>"
      ]
     },
     "metadata": {},
     "output_type": "display_data"
    }
   ],
   "source": [
    "plt.figure(figsize=(6,3))\n",
    "plt.plot(rat,accs,'-o',color='black')\n",
    "plt.axhline(y = 0.5, color = 'k', linestyle = '--')\n",
    "\n",
    "plt.ylabel('Accuracy')\n",
    "plt.xlabel('Fraction of links Added')\n",
    "plt.title('ُSpurious intractions')"
   ]
  },
  {
   "cell_type": "code",
   "execution_count": 37,
   "metadata": {},
   "outputs": [
    {
     "data": {
      "text/plain": [
       "array([[1., 0., 1., ..., 0., 0., 0.],\n",
       "       [1., 1., 1., ..., 0., 0., 0.],\n",
       "       [1., 1., 1., ..., 0., 0., 0.],\n",
       "       ...,\n",
       "       [1., 0., 1., ..., 0., 1., 0.],\n",
       "       [0., 0., 0., ..., 1., 0., 0.],\n",
       "       [0., 0., 1., ..., 0., 0., 1.]])"
      ]
     },
     "execution_count": 37,
     "metadata": {},
     "output_type": "execute_result"
    }
   ],
   "source": [
    "A_O = np.load('Af.npy')\n",
    "A_O"
   ]
  },
  {
   "cell_type": "code",
   "execution_count": 27,
   "metadata": {},
   "outputs": [
    {
     "name": "stderr",
     "output_type": "stream",
     "text": [
      "  5%|▌         | 1/20 [00:02<00:39,  2.09s/it]"
     ]
    },
    {
     "name": "stdout",
     "output_type": "stream",
     "text": [
      "342.61291179896466\n",
      "999\n"
     ]
    },
    {
     "name": "stderr",
     "output_type": "stream",
     "text": [
      " 10%|█         | 2/20 [00:04<00:36,  2.01s/it]"
     ]
    },
    {
     "name": "stdout",
     "output_type": "stream",
     "text": [
      "334.0148065910564\n",
      "999\n"
     ]
    },
    {
     "name": "stderr",
     "output_type": "stream",
     "text": [
      " 15%|█▌        | 3/20 [00:06<00:34,  2.06s/it]"
     ]
    },
    {
     "name": "stdout",
     "output_type": "stream",
     "text": [
      "339.5767593503098\n",
      "999\n"
     ]
    },
    {
     "name": "stderr",
     "output_type": "stream",
     "text": [
      " 20%|██        | 4/20 [00:07<00:31,  1.96s/it]"
     ]
    },
    {
     "name": "stdout",
     "output_type": "stream",
     "text": [
      "358.368533158362\n",
      "999\n"
     ]
    },
    {
     "name": "stderr",
     "output_type": "stream",
     "text": [
      " 25%|██▌       | 5/20 [00:10<00:30,  2.02s/it]"
     ]
    },
    {
     "name": "stdout",
     "output_type": "stream",
     "text": [
      "365.51698193516523\n",
      "999\n"
     ]
    },
    {
     "name": "stderr",
     "output_type": "stream",
     "text": [
      " 30%|███       | 6/20 [00:12<00:28,  2.01s/it]"
     ]
    },
    {
     "name": "stdout",
     "output_type": "stream",
     "text": [
      "355.0162274095114\n",
      "999\n"
     ]
    },
    {
     "name": "stderr",
     "output_type": "stream",
     "text": [
      " 35%|███▌      | 7/20 [00:14<00:27,  2.13s/it]"
     ]
    },
    {
     "name": "stdout",
     "output_type": "stream",
     "text": [
      "350.4519550453538\n",
      "999\n"
     ]
    },
    {
     "name": "stderr",
     "output_type": "stream",
     "text": [
      " 40%|████      | 8/20 [00:16<00:25,  2.09s/it]"
     ]
    },
    {
     "name": "stdout",
     "output_type": "stream",
     "text": [
      "356.93969446061357\n",
      "999\n"
     ]
    },
    {
     "name": "stderr",
     "output_type": "stream",
     "text": [
      " 45%|████▌     | 9/20 [00:18<00:23,  2.10s/it]"
     ]
    },
    {
     "name": "stdout",
     "output_type": "stream",
     "text": [
      "363.7089269751955\n",
      "999\n"
     ]
    },
    {
     "name": "stderr",
     "output_type": "stream",
     "text": [
      " 50%|█████     | 10/20 [00:20<00:20,  2.08s/it]"
     ]
    },
    {
     "name": "stdout",
     "output_type": "stream",
     "text": [
      "333.1023765962706\n",
      "999\n"
     ]
    },
    {
     "name": "stderr",
     "output_type": "stream",
     "text": [
      " 55%|█████▌    | 11/20 [00:22<00:18,  2.08s/it]"
     ]
    },
    {
     "name": "stdout",
     "output_type": "stream",
     "text": [
      "317.79646546725644\n",
      "999\n"
     ]
    },
    {
     "name": "stderr",
     "output_type": "stream",
     "text": [
      " 60%|██████    | 12/20 [00:24<00:16,  2.06s/it]"
     ]
    },
    {
     "name": "stdout",
     "output_type": "stream",
     "text": [
      "365.8211502293019\n",
      "999\n"
     ]
    },
    {
     "name": "stderr",
     "output_type": "stream",
     "text": [
      " 65%|██████▌   | 13/20 [00:26<00:14,  2.02s/it]"
     ]
    },
    {
     "name": "stdout",
     "output_type": "stream",
     "text": [
      "348.67239057662624\n",
      "999\n"
     ]
    },
    {
     "name": "stderr",
     "output_type": "stream",
     "text": [
      " 70%|███████   | 14/20 [00:28<00:12,  2.03s/it]"
     ]
    },
    {
     "name": "stdout",
     "output_type": "stream",
     "text": [
      "349.14049170408845\n",
      "999\n"
     ]
    },
    {
     "name": "stderr",
     "output_type": "stream",
     "text": [
      " 75%|███████▌  | 15/20 [00:30<00:10,  2.10s/it]"
     ]
    },
    {
     "name": "stdout",
     "output_type": "stream",
     "text": [
      "377.4067528270955\n",
      "999\n"
     ]
    },
    {
     "name": "stderr",
     "output_type": "stream",
     "text": [
      " 80%|████████  | 16/20 [00:32<00:08,  2.06s/it]"
     ]
    },
    {
     "name": "stdout",
     "output_type": "stream",
     "text": [
      "341.8193533594154\n",
      "999\n"
     ]
    },
    {
     "name": "stderr",
     "output_type": "stream",
     "text": [
      " 85%|████████▌ | 17/20 [00:34<00:06,  2.04s/it]"
     ]
    },
    {
     "name": "stdout",
     "output_type": "stream",
     "text": [
      "345.1967857452546\n",
      "999\n"
     ]
    },
    {
     "name": "stderr",
     "output_type": "stream",
     "text": [
      " 90%|█████████ | 18/20 [00:36<00:04,  2.05s/it]"
     ]
    },
    {
     "name": "stdout",
     "output_type": "stream",
     "text": [
      "359.95052217976183\n",
      "999\n"
     ]
    },
    {
     "name": "stderr",
     "output_type": "stream",
     "text": [
      " 95%|█████████▌| 19/20 [00:39<00:02,  2.14s/it]"
     ]
    },
    {
     "name": "stdout",
     "output_type": "stream",
     "text": [
      "328.6409770147623\n",
      "999\n"
     ]
    },
    {
     "name": "stderr",
     "output_type": "stream",
     "text": [
      "100%|██████████| 20/20 [00:41<00:00,  2.08s/it]"
     ]
    },
    {
     "name": "stdout",
     "output_type": "stream",
     "text": [
      "343.6209582742629\n",
      "999\n"
     ]
    },
    {
     "name": "stderr",
     "output_type": "stream",
     "text": [
      "\n"
     ]
    }
   ],
   "source": [
    "shape=np.shape(A_O)\n",
    "R_mat=np.zeros(shape)\n",
    "\n",
    "A_T = A_O\n",
    "es = Metro(1000, 20)"
   ]
  },
  {
   "cell_type": "code",
   "execution_count": 28,
   "metadata": {},
   "outputs": [],
   "source": [
    "for i in range(shape[0]):\n",
    "    for j in range(shape[1]):\n",
    "        R_mat[i][j]= R(i,j, A_T, es)"
   ]
  },
  {
   "cell_type": "code",
   "execution_count": 39,
   "metadata": {},
   "outputs": [],
   "source": [
    "A_T_copy  = A_T.copy()"
   ]
  },
  {
   "cell_type": "code",
   "execution_count": 52,
   "metadata": {},
   "outputs": [
    {
     "data": {
      "text/plain": [
       "array([[1., 0., 1., ..., 0., 0., 0.],\n",
       "       [1., 1., 1., ..., 0., 0., 0.],\n",
       "       [1., 1., 1., ..., 0., 0., 0.],\n",
       "       ...,\n",
       "       [1., 0., 1., ..., 0., 1., 0.],\n",
       "       [0., 0., 0., ..., 1., 0., 0.],\n",
       "       [0., 0., 1., ..., 0., 0., 1.]])"
      ]
     },
     "execution_count": 52,
     "metadata": {},
     "output_type": "execute_result"
    }
   ],
   "source": [
    "A_T_copy"
   ]
  },
  {
   "cell_type": "code",
   "execution_count": 40,
   "metadata": {},
   "outputs": [],
   "source": [
    "A_T_copy[np.where(R_mat > 0.9)] = 1\n",
    "A_T_copy[np.where(R_mat < 0.1)] = 0"
   ]
  },
  {
   "cell_type": "code",
   "execution_count": 32,
   "metadata": {},
   "outputs": [],
   "source": [
    "A_TT = np.load('A.npy')"
   ]
  },
  {
   "cell_type": "code",
   "execution_count": 33,
   "metadata": {},
   "outputs": [
    {
     "data": {
      "text/plain": [
       "<matplotlib.image.AxesImage at 0x1c094c68110>"
      ]
     },
     "execution_count": 33,
     "metadata": {},
     "output_type": "execute_result"
    },
    {
     "data": {
      "image/png": "[encoded data removed]",
      "text/plain": [
       "<Figure size 480x480 with 1 Axes>"
      ]
     },
     "metadata": {},
     "output_type": "display_data"
    }
   ],
   "source": [
    "plt.matshow(A_T_copy)"
   ]
  },
  {
   "cell_type": "code",
   "execution_count": 34,
   "metadata": {},
   "outputs": [
    {
     "data": {
      "text/plain": [
       "<matplotlib.image.AxesImage at 0x1c09706eb50>"
      ]
     },
     "execution_count": 34,
     "metadata": {},
     "output_type": "execute_result"
    },
    {
     "data": {
      "image/png": "[encoded data removed]",
      "text/plain": [
       "<Figure size 480x480 with 1 Axes>"
      ]
     },
     "metadata": {},
     "output_type": "display_data"
    }
   ],
   "source": [
    "plt.matshow(A_TT)"
   ]
  },
  {
   "cell_type": "code",
   "execution_count": 38,
   "metadata": {},
   "outputs": [
    {
     "data": {
      "text/plain": [
       "<matplotlib.image.AxesImage at 0x1c097196a50>"
      ]
     },
     "execution_count": 38,
     "metadata": {},
     "output_type": "execute_result"
    },
    {
     "data": {
      "image/png": "[encoded data removed]",
      "text/plain": [
       "<Figure size 480x480 with 1 Axes>"
      ]
     },
     "metadata": {},
     "output_type": "display_data"
    }
   ],
   "source": [
    "plt.matshow(abs(A_O - A_TT))"
   ]
  },
  {
   "cell_type": "code",
   "execution_count": 42,
   "metadata": {},
   "outputs": [
    {
     "data": {
      "text/plain": [
       "<matplotlib.image.AxesImage at 0x1c09729ca10>"
      ]
     },
     "execution_count": 42,
     "metadata": {},
     "output_type": "execute_result"
    },
    {
     "data": {
      "image/png": "[encoded data removed]",
      "text/plain": [
       "<Figure size 480x480 with 1 Axes>"
      ]
     },
     "metadata": {},
     "output_type": "display_data"
    }
   ],
   "source": [
    "plt.matshow(A_T_copy - A_TT)"
   ]
  },
  {
   "cell_type": "code",
   "execution_count": 48,
   "metadata": {},
   "outputs": [
    {
     "data": {
      "text/plain": [
       "(array([212., 290., 327., 195., 415.,  63.,  21.,  54.,  18.,   5.]),\n",
       " array([0.04834 , 0.126778, 0.205216, 0.283654, 0.362092, 0.44053 ,\n",
       "        0.518968, 0.597406, 0.675844, 0.754282, 0.83272 ]),\n",
       " <BarContainer object of 10 artists>)"
      ]
     },
     "execution_count": 48,
     "metadata": {},
     "output_type": "execute_result"
    },
    {
     "data": {
      "image/png": "[encoded data removed]",
      "text/plain": [
       "<Figure size 640x480 with 1 Axes>"
      ]
     },
     "metadata": {},
     "output_type": "display_data"
    }
   ],
   "source": [
    "plt.hist(R_mat.ravel())"
   ]
  },
  {
   "cell_type": "code",
   "execution_count": 46,
   "metadata": {},
   "outputs": [
    {
     "data": {
      "text/plain": [
       "array([[0.42493, 0.42493, 0.42493, ..., 0.10214, 0.12856, 0.10342],\n",
       "       [0.42493, 0.42493, 0.42493, ..., 0.10214, 0.12856, 0.10342],\n",
       "       [0.42493, 0.42493, 0.42493, ..., 0.10214, 0.12856, 0.10342],\n",
       "       ...,\n",
       "       [0.2333 , 0.2333 , 0.2333 , ..., 0.33333, 0.52115, 0.31611],\n",
       "       [0.07818, 0.07818, 0.07818, ..., 0.52207, 0.18843, 0.24302],\n",
       "       [0.27582, 0.27582, 0.27582, ..., 0.34087, 0.24358, 0.6167 ]])"
      ]
     },
     "execution_count": 46,
     "metadata": {},
     "output_type": "execute_result"
    }
   ],
   "source": [
    "R_mat"
   ]
  }
 ],
 "metadata": {
  "kernelspec": {
   "display_name": "Python 3 (ipykernel)",
   "language": "python",
   "name": "python3"
  },
  "language_info": {
   "codemirror_mode": {
    "name": "ipython",
    "version": 3
   },
   "file_extension": ".py",
   "mimetype": "text/x-python",
   "name": "python",
   "nbconvert_exporter": "python",
   "pygments_lexer": "ipython3",
   "version": "3.11.2"
  }
 },
 "nbformat": 4,
 "nbformat_minor": 2
}

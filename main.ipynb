{
 "cells": [
  {
   "cell_type": "markdown",
   "metadata": {},
   "source": [
    "## Reconstruction of Complex Networks"
   ]
  },
  {
   "cell_type": "code",
   "execution_count": 1,
   "metadata": {},
   "outputs": [],
   "source": [
    "import numpy as np\n",
    "import matplotlib.pyplot as plt\n",
    "import networkx as nx\n",
    "import math\n",
    "import random\n",
    "import operator as op\n",
    "from functools import reduce\n",
    "from tqdm import tqdm\n",
    "import copy"
   ]
  },
  {
   "cell_type": "markdown",
   "metadata": {},
   "source": [
    "### Partitioning"
   ]
  },
  {
   "cell_type": "code",
   "execution_count": 2,
   "metadata": {},
   "outputs": [],
   "source": [
    "def all_part_maker(N, size_list, color_list):\n",
    "    return([partitioner(size_list, color_list) for i in range(N)])\n",
    "\n",
    "def ncr(n, r):  #n choose r\n",
    "    r = min(r, n-r)\n",
    "    numer = reduce(op.mul, range(n, n-r, -1), 1)\n",
    "    denom = reduce(op.mul, range(1, r+1), 1)\n",
    "    return numer // denom  # or / in Python 2\n",
    "\n",
    "def index_2d(myList, v):\n",
    "    for i, x in enumerate(myList):\n",
    "        if v in x:\n",
    "            return (i, x.index(v))\n",
    "        \n",
    "def l_ij(alpha,beta, A_T,part):       #number of links between group i and j\n",
    "    link_num = 0\n",
    "    for a in part[alpha]:\n",
    "        for b in part[beta]:\n",
    "            if A_T[a, b] == 1:\n",
    "                link_num += 1\n",
    "    return(link_num)\n",
    "                \n",
    "    \n",
    "def r_ij(alpha,beta, part):       #maximum possible number of links between group i and j\n",
    "    return(len(part[alpha]) * len(part[beta]))\n",
    "\n",
    "def R(i, j, A_T, all_part):   #all_part is a list containing all different partitions\n",
    "    big_sum= 0\n",
    "    Z=0\n",
    "    for part in all_part:  \n",
    "\n",
    "        sigma_i = index_2d(part, i)[0]\n",
    "        sigma_j = index_2d(part, j)[0]\n",
    "        l = l_ij(sigma_i , sigma_j , A_T, part)\n",
    "        r = r_ij(sigma_i , sigma_j , part)\n",
    "        paran = ((l + 1)/(r+2))\n",
    "\n",
    "        gooz_list = [[x,y] for x in range(len(part)) for y in range(len(part)) if len(part[x])<len(part[y])]     \n",
    "        pair_list=[]\n",
    "        for x in gooz_list:\n",
    "            if x not in pair_list: pair_list.append(x)\n",
    "        H_P = 0\n",
    "        for pair in pair_list:\n",
    "            alpha, beta = pair\n",
    "            l = l_ij(alpha, beta, A_T, part)\n",
    "            r = r_ij(alpha, beta, part)\n",
    "            h_p = math.log(r+1) + math.log(ncr(r, l))\n",
    "            H_P += h_p\n",
    "        Z += np.exp(-H_P)\n",
    "        big_sum += paran* np.exp(-H_P)\n",
    "        R_ij = big_sum/Z \n",
    "    # print('reliability of i={} and j={}:'.format(i, j), round(R_ij,4))\n",
    "    return(round(R_ij,5))\n",
    "\n",
    "def H(P):\n",
    "    pair_list=[]\n",
    "    H_P=0\n",
    "    for i in range(len(P)):\n",
    "        for j in range(len(P)):\n",
    "            if i<j:\n",
    "                pair_list.append([i,j])\n",
    "    for pair in pair_list:\n",
    "            alpha, beta = pair\n",
    "            l = l_ij(alpha, beta, A_T, P)\n",
    "            r = r_ij(alpha, beta, P)\n",
    "            h_p = math.log(r+1) + math.log(ncr(r, l))\n",
    "            H_P += h_p\n",
    "    return(H_P)\n",
    "\n",
    "\n",
    "def Metro(T,ens):\n",
    "    e=[]\n",
    "    for i in range(ens):\n",
    "        partitions =  [[i] for i in range(40)].copy()\n",
    "        for kk in tqdm(range(T)):\n",
    "\n",
    "            partitions = [ele for ele in partitions if ele != []]\n",
    "            part_before=copy.deepcopy(partitions)\n",
    "\n",
    "            H0=H(partitions)\n",
    "            rpp=random.randint(0,len(partitions)-1)\n",
    "            m,n=index_2d(partitions,rpp)\n",
    "            a=partitions[m][n]\n",
    "            del partitions[m][n]\n",
    "            rp=random.randint(0,len(partitions)-1)\n",
    "            partitions[rp].append(a)\n",
    "            Hf=H(partitions)\n",
    "            deltaH=Hf-H0\n",
    "            if deltaH>0:\n",
    "                if random.random() > np.exp(-deltaH):\n",
    "                    partitions=part_before.copy()\n",
    "            partitions = [ele for ele in partitions if ele != []]\n",
    "            \n",
    "        ppp=copy.deepcopy(partitions)\n",
    "        e.append(ppp)\n",
    "    return(e)"
   ]
  },
  {
   "cell_type": "code",
   "execution_count": 3,
   "metadata": {},
   "outputs": [
    {
     "data": {
      "text/plain": [
       "array([[1., 0., 1., ..., 0., 0., 0.],\n",
       "       [1., 1., 1., ..., 0., 0., 0.],\n",
       "       [1., 1., 1., ..., 0., 0., 0.],\n",
       "       ...,\n",
       "       [1., 0., 1., ..., 0., 1., 0.],\n",
       "       [0., 0., 0., ..., 1., 0., 0.],\n",
       "       [0., 0., 1., ..., 0., 0., 1.]])"
      ]
     },
     "execution_count": 3,
     "metadata": {},
     "output_type": "execute_result"
    }
   ],
   "source": [
    "A_T = np.load('A.npy')\n",
    "A_O = np.load('Af.npy')\n",
    "A_T"
   ]
  },
  {
   "cell_type": "code",
   "execution_count": 4,
   "metadata": {},
   "outputs": [
    {
     "name": "stderr",
     "output_type": "stream",
     "text": [
      "100%|██████████| 1000/1000 [00:01<00:00, 500.91it/s]\n",
      "100%|██████████| 1000/1000 [00:02<00:00, 418.62it/s]\n",
      "100%|██████████| 1000/1000 [00:02<00:00, 487.55it/s]\n",
      "100%|██████████| 1000/1000 [00:02<00:00, 480.28it/s]\n",
      "100%|██████████| 1000/1000 [00:02<00:00, 478.72it/s]\n",
      "100%|██████████| 1000/1000 [00:02<00:00, 463.56it/s]\n",
      "100%|██████████| 1000/1000 [00:01<00:00, 516.37it/s]\n",
      "100%|██████████| 1000/1000 [00:02<00:00, 493.31it/s]\n",
      "100%|██████████| 1000/1000 [00:02<00:00, 473.54it/s]\n",
      "100%|██████████| 1000/1000 [00:01<00:00, 520.12it/s]\n"
     ]
    }
   ],
   "source": [
    "es = Metro(1000, 10)"
   ]
  },
  {
   "cell_type": "markdown",
   "metadata": {},
   "source": [
    "### Missing Interactions (Removing Links)"
   ]
  },
  {
   "cell_type": "markdown",
   "metadata": {},
   "source": [
    "#### The Average Reliablity of Absent Links"
   ]
  },
  {
   "cell_type": "code",
   "execution_count": 206,
   "metadata": {},
   "outputs": [],
   "source": [
    "A_T = np.load('A.npy')"
   ]
  },
  {
   "cell_type": "code",
   "execution_count": 207,
   "metadata": {},
   "outputs": [
    {
     "name": "stderr",
     "output_type": "stream",
     "text": [
      "100%|██████████| 1200/1200 [00:09<00:00, 123.72it/s]"
     ]
    },
    {
     "name": "stdout",
     "output_type": "stream",
     "text": [
      "the mean value 0.22\n"
     ]
    },
    {
     "name": "stderr",
     "output_type": "stream",
     "text": [
      "\n"
     ]
    }
   ],
   "source": [
    "zero_real = []\n",
    "zero_index = np.where(A_T==0)\n",
    "\n",
    "\n",
    "for i in tqdm(range(len(zero_index[0]))):\n",
    "    zero_real.append(R(zero_index[0][i], zero_index[1][i], A_T, es))\n",
    "print('the mean value', round(np.mean(zero_real),2))"
   ]
  },
  {
   "cell_type": "code",
   "execution_count": 208,
   "metadata": {},
   "outputs": [],
   "source": [
    "def link_remover(A_T, ratio):\n",
    "    one_index = np.where(A_T==1)\n",
    "    one_list = [[one_index[0][i], one_index[1][i]] for i in range(len(one_index[0]))]\n",
    "    r = random.sample(one_list, int(ratio * np.sum(A_T)/2))\n",
    "    return(r)"
   ]
  },
  {
   "cell_type": "code",
   "execution_count": 209,
   "metadata": {},
   "outputs": [
    {
     "name": "stdout",
     "output_type": "stream",
     "text": [
      "the mean value 0.5\n"
     ]
    }
   ],
   "source": [
    "selected_links = link_remover(A_T, 0.01) \n",
    "for link in selected_links: A_T[link[0], link[1]] = 0 \n",
    "zero_fake=[]\n",
    "for i in selected_links:\n",
    "    zero_fake.append(R(i[0], i[1], A_T, es))\n",
    "print('the mean value', round(np.mean(zero_fake),2))"
   ]
  },
  {
   "cell_type": "code",
   "execution_count": 210,
   "metadata": {},
   "outputs": [],
   "source": [
    "all_real = []\n",
    "for i in zero_fake: all_real.append([1, i])\n",
    "for i in zero_real: all_real.append([0, i])"
   ]
  },
  {
   "cell_type": "code",
   "execution_count": 211,
   "metadata": {},
   "outputs": [
    {
     "data": {
      "text/plain": [
       "[[0, 0.75],\n",
       " [0, 0.75],\n",
       " [0, 0.7451],\n",
       " [0, 0.7451],\n",
       " [0, 0.7451],\n",
       " [0, 0.7451],\n",
       " [0, 0.7451],\n",
       " [0, 0.7451],\n",
       " [0, 0.7451],\n",
       " [0, 0.7451]]"
      ]
     },
     "execution_count": 211,
     "metadata": {},
     "output_type": "execute_result"
    }
   ],
   "source": [
    "#sorting \n",
    "\n",
    "def Sort(sub_li):\n",
    "    sub_li.sort(key = lambda x: x[1])\n",
    "    return sub_li.reverse()\n",
    "Sort(all_real)\n",
    "all_real[:10]"
   ]
  },
  {
   "cell_type": "code",
   "execution_count": 212,
   "metadata": {},
   "outputs": [],
   "source": [
    "#extract the first element\n",
    "def Extract(lst):\n",
    "    return list(list(zip(*lst))[0]) \n",
    "# Driver code\n",
    "ext=Extract(all_real)"
   ]
  },
  {
   "cell_type": "code",
   "execution_count": 213,
   "metadata": {},
   "outputs": [],
   "source": [
    "def acc(k):\n",
    "    zeros=k.count(0)\n",
    "    ones=k.count(1)\n",
    "    ef=0\n",
    "    for i in range(len(k)):\n",
    "        if k[i]==1:\n",
    "            ef+=k[i:].count(0)/zeros\n",
    "    return ef/ones\n",
    "    "
   ]
  },
  {
   "cell_type": "code",
   "execution_count": 214,
   "metadata": {},
   "outputs": [
    {
     "data": {
      "text/plain": [
       "0.8825000000000001"
      ]
     },
     "execution_count": 214,
     "metadata": {},
     "output_type": "execute_result"
    }
   ],
   "source": [
    "acc(ext)"
   ]
  },
  {
   "cell_type": "code",
   "execution_count": 227,
   "metadata": {},
   "outputs": [
    {
     "name": "stdout",
     "output_type": "stream",
     "text": [
      "the mean value 0.45\n",
      "the mean value 0.4\n",
      "the mean value 0.39\n",
      "the mean value 0.39\n",
      "the mean value 0.36\n",
      "the mean value 0.34\n",
      "the mean value 0.31\n",
      "the mean value 0.27\n",
      "the mean value 0.29\n",
      "the mean value 0.21\n"
     ]
    }
   ],
   "source": [
    "rat=np.linspace(0.1,1,10)\n",
    "accs=[]\n",
    "for r in rat:\n",
    "    A_T = np.load('A.npy')\n",
    "    selected_links = link_remover(A_T, r) \n",
    "    for link in selected_links: A_T[link[0], link[1]] = 0 \n",
    "    zero_fake=[]\n",
    "    for i in selected_links:\n",
    "        zero_fake.append(R(i[0], i[1], A_T, es))\n",
    "    print('the mean value', round(np.mean(zero_fake),2))\n",
    "    all_real = []\n",
    "    for i in zero_fake: all_real.append([1, i])\n",
    "    for i in zero_real: all_real.append([0, i])\n",
    "    Sort(all_real)\n",
    "    ext=Extract(all_real)\n",
    "    accs.append(acc(ext))"
   ]
  },
  {
   "cell_type": "code",
   "execution_count": 233,
   "metadata": {},
   "outputs": [
    {
     "data": {
      "text/plain": [
       "Text(0.5, 1.0, 'Missing intractions')"
      ]
     },
     "execution_count": 233,
     "metadata": {},
     "output_type": "execute_result"
    },
    {
     "data": {
      "image/png": "[encoded data removed]",
      "text/plain": [
       "<Figure size 640x480 with 1 Axes>"
      ]
     },
     "metadata": {},
     "output_type": "display_data"
    }
   ],
   "source": [
    "plt.plot(rat,accs,'-o',color='black')\n",
    "plt.ylabel('Accuracy')\n",
    "plt.xlabel('Fraction of links removed')\n",
    "plt.title('Missing intractions')"
   ]
  },
  {
   "cell_type": "code",
   "execution_count": null,
   "metadata": {},
   "outputs": [],
   "source": []
  }
 ],
 "metadata": {
  "kernelspec": {
   "display_name": "Python 3 (ipykernel)",
   "language": "python",
   "name": "python3"
  },
  "language_info": {
   "codemirror_mode": {
    "name": "ipython",
    "version": 3
   },
   "file_extension": ".py",
   "mimetype": "text/x-python",
   "name": "python",
   "nbconvert_exporter": "python",
   "pygments_lexer": "ipython3",
   "version": "3.7.15"
  }
 },
 "nbformat": 4,
 "nbformat_minor": 2
}
